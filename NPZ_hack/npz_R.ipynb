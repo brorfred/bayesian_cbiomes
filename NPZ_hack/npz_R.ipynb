{
 "cells": [
  {
   "cell_type": "markdown",
   "metadata": {},
   "source": [
    "# NPZ model and synthetic observations"
   ]
  },
  {
   "cell_type": "markdown",
   "metadata": {},
   "source": [
    "## some preparation: \n",
    "\n",
    "Load packages"
   ]
  },
  {
   "cell_type": "code",
   "execution_count": 76,
   "metadata": {},
   "outputs": [],
   "source": [
    "library(deSolve)\n",
    "library(rstan)\n",
    "library(viridis)\n",
    "options(mc.cores = parallel::detectCores())"
   ]
  },
  {
   "cell_type": "markdown",
   "metadata": {},
   "source": [
    "Specify simulation parameters"
   ]
  },
  {
   "cell_type": "code",
   "execution_count": 77,
   "metadata": {},
   "outputs": [],
   "source": [
    "theta <- list(vmax       = 0.075,\n",
    "              nuthalfsat = 0.3,\n",
    "              graz       = 0.02,\n",
    "              mort_p     = 0.02,\n",
    "              mort_z     = 0.03,\n",
    "              irr        = 0.8)\n",
    "\n",
    "x <- c(N = 0.6,\n",
    "       P = 0.15,\n",
    "       Z = 0.23)\n",
    "\n",
    "T  <- 2*365\n",
    "dt <- 1\n",
    "t  <- seq(0,T,dt)\n",
    "\n",
    "i_n = 1\n",
    "i_p = 2\n",
    "i_z = 3"
   ]
  },
  {
   "cell_type": "markdown",
   "metadata": {},
   "source": [
    "Function for simulations"
   ]
  },
  {
   "cell_type": "code",
   "execution_count": 78,
   "metadata": {},
   "outputs": [],
   "source": [
    "dxdt <- function(t,x,theta){\n",
    "    with(as.list(c(x,theta)),{\n",
    "        light   = 1 + 0.5*(irr*sin(pi*((t-81.25)/182.5)) - irr)\n",
    "        growth  = (vmax*N/(nuthalfsat + N))*light*P\n",
    "        grazing = graz*P*Z\n",
    "        ploss   = mort_p*P\n",
    "        zloss   = mort_z*Z*Z\n",
    "        \n",
    "        list(c(-growth + ploss + zloss,\n",
    "               growth - grazing - ploss,\n",
    "               grazing - zloss)) })}"
   ]
  },
  {
   "cell_type": "markdown",
   "metadata": {},
   "source": [
    "Solve the model"
   ]
  },
  {
   "cell_type": "code",
   "execution_count": 79,
   "metadata": {},
   "outputs": [],
   "source": [
    "x <- as.data.frame(ode(y=x, times=t, func=dxdt, parms=theta))"
   ]
  },
  {
   "cell_type": "markdown",
   "metadata": {},
   "source": [
    "set indices for observation extractions and generate synthetic observations"
   ]
  },
  {
   "cell_type": "code",
   "execution_count": 80,
   "metadata": {},
   "outputs": [],
   "source": [
    "iobs <- sort(sample(1:length(t), 20)) \n",
    "tobs <- t[iobs]\n",
    "iobsvar <- c(i_p,i_z)\n",
    "\n",
    "sigma <- c(0.03,0.03)\n",
    "\n",
    "obs <- cbind(x$P[iobs] + rnorm(length(iobs),sd=sigma[1]),\n",
    "             x$Z[iobs] + rnorm(length(iobs),sd=sigma[2]))"
   ]
  },
  {
   "cell_type": "markdown",
   "metadata": {},
   "source": [
    "plot data"
   ]
  },
  {
   "cell_type": "code",
   "execution_count": 81,
   "metadata": {},
   "outputs": [
    {
     "data": {
      "image/png": "[encoded data removed]",
      "text/plain": [
       "plot without title"
      ]
     },
     "metadata": {},
     "output_type": "display_data"
    }
   ],
   "source": [
    "options(repr.plot.width=8, repr.plot.height=5)\n",
    "light <- 1 + 0.5*(theta$irr*sin(pi*((t-81.25)/182.5)) - theta$irr)\n",
    "\n",
    "plot(t,light/10,type='l',ylim=c(0,0.8),lty=2,col='orange',xlab='time (days)')\n",
    "lines(t,x$N,col='blue')\n",
    "lines(t,x$P,col='dark green')\n",
    "lines(t,x$Z,col='red')\n",
    "\n",
    "points(tobs,obs[,length(iobsvar)],col='dark green')\n",
    "points(tobs,obs[,length(iobsvar)],col='red')"
   ]
  },
  {
   "cell_type": "markdown",
   "metadata": {},
   "source": [
    "## create and run Stan model"
   ]
  },
  {
   "cell_type": "code",
   "execution_count": 84,
   "metadata": {},
   "outputs": [],
   "source": [
    "stan_code = \"functions {\n",
    "   real[] npz(real t,       // time\n",
    "              real[] x,     // state\n",
    "              real[] theta, // parameters\n",
    "              real[] x_r,   // fixed real data (empty)\n",
    "              int[] x_i) {  // fixed integer data (empty)\n",
    "   \n",
    "    /*\n",
    "    guide to theta:\n",
    "    theta[1]:  vmax         maximum growth rate in Michaelis Menten formulation\n",
    "    theta[2]:  nuthalfsat   nutrient half saturation in Michaelis Menten formulation\n",
    "    theta[3]:  graz         zooplankton grazing rate\n",
    "    theta[4]:  mort_p       phytoplankton mortality rate\n",
    "    theta[5]:  mort_z       zooplankton mortality rate\n",
    "    theta[6]:  irr          light amplitude\n",
    "    */\n",
    "\n",
    "    real n = fmax(0.0, x[1]);\n",
    "    real p = fmax(0.0, x[2]);\n",
    "    real z = fmax(0.0, x[3]);\n",
    "\n",
    "    real light = 1.0 + 0.5*(theta[6]*sin(pi()*((t-81.25)/182.5))-theta[6]); \n",
    "    real growth = theta[1]*n/(theta[2]+n) * light * p;\n",
    "    real grazing = theta[3]*p*z;\n",
    "    real ploss = theta[4]*p;\n",
    "    real zloss = theta[5]*z*z;\n",
    "    \n",
    "    return {-growth+ploss+zloss,growth-grazing-ploss,grazing-zloss};\n",
    "  }\n",
    "}\n",
    "data {\n",
    "    int<lower=0> nobs;               // number of timesteps with observations\n",
    "    real tobs[nobs];                 // obs times\n",
    "    int<lower=0> nobsvar;            // number of observed variables\n",
    "    int<lower=0> iobsvar[nobsvar];   // index of observed variable (N=1, P=2, Z=3)\n",
    "    real<lower=0> obs[nobs,nobsvar]; // observed variable at measurement times\n",
    "}\n",
    "parameters {\n",
    "    real<lower=0> vmax;\n",
    "    real<lower=0> nuthalfsat;\n",
    "    real<lower=0> graz;\n",
    "    real<lower=0> mort_p;\n",
    "    real<lower=0> mort_z;\n",
    "    real<lower=0,upper=1> irr;\n",
    "    real<lower=0> x0[3];            // initial conditions\n",
    "    real<lower=1E-15> sigma[nobsvar];   // obs error\n",
    "}\n",
    "transformed parameters {\n",
    "    real theta[6] = {vmax,nuthalfsat,graz,mort_p,mort_z,irr};\n",
    "    real x[nobs, 3] = integrate_ode_rk45(npz, x0, 0, tobs, theta,\n",
    "                                         rep_array(0.0, 0), rep_array(0, 0),\n",
    "                                         1e-5, 1e-4, 1e4);\n",
    "}\n",
    "model {\n",
    "    vmax       ~ normal(0.1, 0.1);\n",
    "    nuthalfsat ~ uniform(0.0, 1.0);\n",
    "    graz       ~ normal(0.01, 0.01);\n",
    "    mort_p     ~ normal(0.01, 0.01);\n",
    "    mort_z     ~ normal(0.01, 0.01);\n",
    "    irr        ~ uniform(0.0, 1.0);\n",
    "    x0[1:3]    ~ normal(0.1, 0.1);\n",
    "    for (iobs in 1:nobs){\n",
    "        obs[iobs,] ~ normal(x[iobs,iobsvar], sigma);\n",
    "    }\n",
    "}\""
   ]
  },
  {
   "cell_type": "markdown",
   "metadata": {},
   "source": [
    "Compile the model"
   ]
  },
  {
   "cell_type": "code",
   "execution_count": 85,
   "metadata": {},
   "outputs": [],
   "source": [
    "mod <- stan_model(model_code = stan_code)"
   ]
  },
  {
   "cell_type": "markdown",
   "metadata": {},
   "source": [
    "Organize the data"
   ]
  },
  {
   "cell_type": "code",
   "execution_count": 86,
   "metadata": {},
   "outputs": [],
   "source": [
    "data <- list(obs=obs,\n",
    "             nobs=length(tobs),\n",
    "             tobs=tobs,\n",
    "             nobsvar=ncol(obs),\n",
    "             iobsvar=iobsvar)"
   ]
  },
  {
   "cell_type": "markdown",
   "metadata": {},
   "source": [
    "Perform sampling"
   ]
  },
  {
   "cell_type": "code",
   "execution_count": 87,
   "metadata": {},
   "outputs": [
    {
     "name": "stderr",
     "output_type": "stream",
     "text": [
      "Warning message:\n",
      "\"There were 684 divergent transitions after warmup. Increasing adapt_delta above 0.8 may help. See\n",
      "http://mc-stan.org/misc/warnings.html#divergent-transitions-after-warmup\"Warning message:\n",
      "\"Examine the pairs() plot to diagnose sampling problems\n",
      "\"Warning message:\n",
      "\"Tail Effective Samples Size (ESS) is too low, indicating posterior variances and tail quantiles may be unreliable.\n",
      "Running the chains for more iterations may help. See\n",
      "http://mc-stan.org/misc/warnings.html#tail-ess\""
     ]
    }
   ],
   "source": [
    "mcmc <- sampling(mod,data=data,open_progress=TRUE)"
   ]
  },
  {
   "cell_type": "code",
   "execution_count": 88,
   "metadata": {},
   "outputs": [
    {
     "data": {
      "text/plain": [
       "Inference for Stan model: e35dd66afce58e4673f555ba96067cde.\n",
       "4 chains, each with iter=2000; warmup=1000; thin=1; \n",
       "post-warmup draws per chain=1000, total post-warmup draws=4000.\n",
       "\n",
       "            mean se_mean   sd  2.5%   25%   50%   75% 97.5% n_eff Rhat\n",
       "vmax        0.08    0.00 0.02  0.05  0.07  0.08  0.09  0.14   441 1.01\n",
       "nuthalfsat  0.32    0.01 0.23  0.04  0.14  0.24  0.44  0.91   485 1.01\n",
       "graz        0.01    0.00 0.00  0.01  0.01  0.01  0.02  0.02  1318 1.00\n",
       "mort_p      0.02    0.00 0.00  0.01  0.01  0.02  0.02  0.03  1371 1.00\n",
       "mort_z      0.02    0.00 0.01  0.01  0.02  0.02  0.02  0.03  1340 1.00\n",
       "irr         0.91    0.00 0.07  0.73  0.87  0.92  0.96  1.00  1301 1.00\n",
       "x0[1]       0.47    0.00 0.06  0.35  0.44  0.48  0.51  0.59   780 1.00\n",
       "x0[2]       0.15    0.00 0.02  0.11  0.13  0.14  0.16  0.19  1495 1.00\n",
       "x0[3]       0.24    0.00 0.02  0.21  0.23  0.24  0.26  0.29  1951 1.00\n",
       "sigma[1]    0.04    0.00 0.01  0.03  0.03  0.04  0.04  0.06  1232 1.00\n",
       "sigma[2]    0.04    0.00 0.01  0.03  0.03  0.04  0.04  0.06  2256 1.00\n",
       "theta[1]    0.08    0.00 0.02  0.05  0.07  0.08  0.09  0.14   441 1.01\n",
       "theta[2]    0.32    0.01 0.23  0.04  0.14  0.24  0.44  0.91   485 1.01\n",
       "theta[3]    0.01    0.00 0.00  0.01  0.01  0.01  0.02  0.02  1318 1.00\n",
       "theta[4]    0.02    0.00 0.00  0.01  0.01  0.02  0.02  0.03  1371 1.00\n",
       "theta[5]    0.02    0.00 0.01  0.01  0.02  0.02  0.02  0.03  1340 1.00\n",
       "theta[6]    0.91    0.00 0.07  0.73  0.87  0.92  0.96  1.00  1301 1.00\n",
       "x[1,1]      0.48    0.00 0.06  0.36  0.44  0.48  0.52  0.60   775 1.00\n",
       "x[1,2]      0.14    0.00 0.02  0.10  0.13  0.14  0.15  0.18  1487 1.00\n",
       "x[1,3]      0.24    0.00 0.02  0.20  0.23  0.24  0.26  0.28  1976 1.00\n",
       "x[2,1]      0.51    0.00 0.06  0.39  0.47  0.51  0.55  0.62   773 1.00\n",
       "x[2,2]      0.12    0.00 0.02  0.09  0.11  0.12  0.13  0.16  1478 1.00\n",
       "x[2,3]      0.24    0.00 0.02  0.20  0.22  0.23  0.25  0.27  2056 1.00\n",
       "x[3,1]      0.52    0.00 0.06  0.40  0.48  0.52  0.56  0.63   774 1.00\n",
       "x[3,2]      0.11    0.00 0.02  0.08  0.10  0.11  0.12  0.15  1481 1.00\n",
       "x[3,3]      0.23    0.00 0.02  0.20  0.22  0.23  0.24  0.27  2103 1.00\n",
       "x[4,1]      0.42    0.00 0.06  0.30  0.38  0.42  0.46  0.53  1010 1.00\n",
       "x[4,2]      0.27    0.00 0.02  0.23  0.25  0.27  0.28  0.31  2761 1.00\n",
       "x[4,3]      0.18    0.00 0.01  0.15  0.17  0.18  0.19  0.21  1725 1.00\n",
       "x[5,1]      0.38    0.00 0.06  0.26  0.34  0.38  0.41  0.49  1046 1.00\n",
       "x[5,2]      0.31    0.00 0.02  0.27  0.29  0.31  0.32  0.36  3151 1.00\n",
       "x[5,3]      0.18    0.00 0.01  0.15  0.17  0.18  0.19  0.21  1731 1.00\n",
       "x[6,1]      0.35    0.00 0.06  0.23  0.32  0.36  0.39  0.47  1062 1.00\n",
       "x[6,2]      0.33    0.00 0.02  0.29  0.32  0.33  0.35  0.38  3394 1.00\n",
       "x[6,3]      0.18    0.00 0.01  0.15  0.17  0.18  0.19  0.21  1738 1.00\n",
       "x[7,1]      0.10    0.00 0.04  0.03  0.07  0.10  0.13  0.18   767 1.00\n",
       "x[7,2]      0.53    0.00 0.02  0.47  0.52  0.53  0.55  0.58  1583 1.00\n",
       "x[7,3]      0.23    0.00 0.01  0.21  0.22  0.23  0.24  0.26  1946 1.00\n",
       "x[8,1]      0.37    0.00 0.05  0.26  0.33  0.37  0.41  0.48   814 1.00\n",
       "x[8,2]      0.25    0.00 0.01  0.22  0.24  0.25  0.26  0.28  3639 1.00\n",
       "x[8,3]      0.25    0.00 0.01  0.22  0.24  0.25  0.25  0.27  1833 1.00\n",
       "x[9,1]      0.46    0.00 0.05  0.36  0.43  0.47  0.50  0.57   843 1.00\n",
       "x[9,2]      0.17    0.00 0.01  0.14  0.16  0.17  0.18  0.19  3757 1.00\n",
       "x[9,3]      0.23    0.00 0.01  0.21  0.23  0.23  0.24  0.25  2191 1.00\n",
       "x[10,1]     0.50    0.00 0.05  0.39  0.46  0.50  0.54  0.61   855 1.00\n",
       "x[10,2]     0.14    0.00 0.01  0.11  0.13  0.14  0.15  0.17  3558 1.00\n",
       "x[10,3]     0.23    0.00 0.01  0.20  0.22  0.23  0.23  0.25  2364 1.00\n",
       "x[11,1]     0.58    0.00 0.05  0.47  0.55  0.58  0.62  0.69   935 1.00\n",
       "x[11,2]     0.10    0.00 0.02  0.07  0.09  0.10  0.11  0.13  3059 1.00\n",
       "x[11,3]     0.19    0.00 0.01  0.16  0.18  0.19  0.19  0.21  1943 1.00\n",
       "x[12,1]     0.55    0.00 0.05  0.44  0.51  0.55  0.58  0.65  1084 1.00\n",
       "x[12,2]     0.14    0.00 0.02  0.10  0.13  0.14  0.15  0.18  2321 1.00\n",
       "x[12,3]     0.18    0.00 0.01  0.15  0.17  0.18  0.19  0.20  1808 1.00\n",
       "x[13,1]     0.27    0.00 0.06  0.15  0.23  0.27  0.31  0.38  1549 1.00\n",
       "x[13,2]     0.42    0.00 0.03  0.35  0.40  0.42  0.44  0.47  2095 1.00\n",
       "x[13,3]     0.18    0.00 0.01  0.15  0.17  0.18  0.18  0.20  1989 1.00\n",
       "x[14,1]     0.11    0.00 0.05  0.02  0.07  0.11  0.15  0.22   963 1.00\n",
       "x[14,2]     0.56    0.00 0.03  0.51  0.55  0.56  0.58  0.61  1998 1.00\n",
       "x[14,3]     0.19    0.00 0.01  0.17  0.18  0.19  0.20  0.21  2762 1.00\n",
       "x[15,1]     0.09    0.00 0.04  0.02  0.06  0.09  0.12  0.18   816 1.00\n",
       "x[15,2]     0.57    0.00 0.03  0.51  0.56  0.58  0.59  0.62  1694 1.00\n",
       "x[15,3]     0.20    0.00 0.01  0.18  0.19  0.20  0.21  0.22  3205 1.00\n",
       "x[16,1]     0.25    0.00 0.05  0.15  0.22  0.26  0.29  0.36   785 1.00\n",
       "x[16,2]     0.36    0.00 0.02  0.33  0.35  0.36  0.37  0.39  2457 1.00\n",
       "x[16,3]     0.25    0.00 0.02  0.22  0.24  0.25  0.26  0.28  1797 1.00\n",
       "x[17,1]     0.28    0.00 0.05  0.17  0.24  0.28  0.32  0.39   788 1.00\n",
       "x[17,2]     0.33    0.00 0.02  0.30  0.32  0.33  0.34  0.36  2562 1.00\n",
       "x[17,3]     0.25    0.00 0.02  0.22  0.24  0.25  0.26  0.28  1799 1.00\n",
       "x[18,1]     0.30    0.00 0.05  0.19  0.26  0.30  0.33  0.40   790 1.00\n",
       "x[18,2]     0.32    0.00 0.01  0.29  0.31  0.32  0.33  0.35  2647 1.00\n",
       "x[18,3]     0.25    0.00 0.02  0.22  0.24  0.25  0.26  0.28  1804 1.00\n",
       "x[19,1]     0.42    0.00 0.05  0.32  0.39  0.42  0.46  0.53   822 1.00\n",
       "x[19,2]     0.20    0.00 0.01  0.18  0.19  0.20  0.21  0.23  3672 1.00\n",
       "x[19,3]     0.24    0.00 0.01  0.21  0.23  0.24  0.25  0.26  2019 1.00\n",
       "x[20,1]     0.44    0.00 0.05  0.33  0.41  0.44  0.48  0.55   828 1.00\n",
       "x[20,2]     0.19    0.00 0.01  0.16  0.18  0.19  0.19  0.21  3628 1.00\n",
       "x[20,3]     0.24    0.00 0.01  0.21  0.23  0.24  0.24  0.26  2076 1.00\n",
       "lp__       72.19    0.10 2.89 65.36 70.63 72.58 74.28 76.48   842 1.00\n",
       "\n",
       "Samples were drawn using NUTS(diag_e) at Tue Dec 31 16:07:16 2019.\n",
       "For each parameter, n_eff is a crude measure of effective sample size,\n",
       "and Rhat is the potential scale reduction factor on split chains (at \n",
       "convergence, Rhat=1)."
      ]
     },
     "metadata": {},
     "output_type": "display_data"
    }
   ],
   "source": [
    "mcmc"
   ]
  },
  {
   "cell_type": "code",
   "execution_count": 89,
   "metadata": {},
   "outputs": [],
   "source": [
    "post <- extract(mcmc)"
   ]
  },
  {
   "cell_type": "markdown",
   "metadata": {},
   "source": [
    "Compute statistics from posterior\n",
    "\n",
    "Plot the results"
   ]
  },
  {
   "cell_type": "code",
   "execution_count": 102,
   "metadata": {},
   "outputs": [
    {
     "data": {
      "text/html": [
       "<ol class=list-inline>\n",
       "\t<li>4000</li>\n",
       "\t<li>20</li>\n",
       "\t<li>3</li>\n",
       "</ol>\n"
      ],
      "text/latex": [
       "\\begin{enumerate*}\n",
       "\\item 4000\n",
       "\\item 20\n",
       "\\item 3\n",
       "\\end{enumerate*}\n"
      ],
      "text/markdown": [
       "1. 4000\n",
       "2. 20\n",
       "3. 3\n",
       "\n",
       "\n"
      ],
      "text/plain": [
       "[1] 4000   20    3"
      ]
     },
     "metadata": {},
     "output_type": "display_data"
    },
    {
     "data": {
      "image/png": "[encoded data removed]",
      "text/plain": [
       "plot without title"
      ]
     },
     "metadata": {},
     "output_type": "display_data"
    }
   ],
   "source": [
    "options(repr.plot.width=8, repr.plot.height=5)\n",
    "light <- 1 + 0.5*(theta$irr*sin(pi*((t-81.25)/182.5)) - theta$irr)\n",
    "\n",
    "plot(t,light/10,type='l',ylim=c(0,0.8),lty=2,col='orange',xlab='time (days)')\n",
    "lines(t,x$N,col='blue')\n",
    "lines(t,x$P,col='dark green')\n",
    "lines(t,x$Z,col='red')\n",
    "\n",
    "points(tobs,obs[,1],col='dark green')\n",
    "points(tobs,obs[,2],col='red')\n",
    "\n",
    "qs <- c(0.025,0.5,0.975)\n",
    "dim(post$x)\n",
    "\n",
    "q_n <- apply(post$x[,,1],2,function(x) quantile(x,probs=qs))\n",
    "q_p <- apply(post$x[,,2],2,function(x) quantile(x,probs=qs))\n",
    "q_z <- apply(post$x[,,3],2,function(x) quantile(x,probs=qs))\n",
    "    \n",
    "points(tobs,q_n[2,],pch=8,col='blue')\n",
    "    segments(x0=tobs,x1=tobs,y0=q_n[1,],y1=q_n[3,],col='blue')\n",
    "points(tobs,q_p[2,],pch=8,col='dark green')\n",
    "    segments(x0=tobs,x1=tobs,y0=q_p[1,],y1=q_p[3,],col='dark green')\n",
    "points(tobs,q_z[2,],pch=8,col='red')\n",
    "    segments(x0=tobs,x1=tobs,y0=q_z[1,],y1=q_z[3,],col='red')"
   ]
  },
  {
   "cell_type": "markdown",
   "metadata": {},
   "source": [
    "Plot via boxplots"
   ]
  },
  {
   "cell_type": "code",
   "execution_count": 126,
   "metadata": {},
   "outputs": [
    {
     "data": {
      "image/png": "[encoded data removed]",
      "text/plain": [
       "plot without title"
      ]
     },
     "metadata": {},
     "output_type": "display_data"
    }
   ],
   "source": [
    "options(repr.plot.width=8, repr.plot.height=5)\n",
    "par(mfrow=c(3,1),mar=c(3,4,1,3),oma=c(2,2,2,2))\n",
    "boxplot(post$x[,,1],names=tobs)\n",
    "    points(x$N[iobs],col='blue',pch=8,cex=1.2)\n",
    "    legend('topright',bty='n',legend=c('true state'),col='blue',pch=8)\n",
    "    mtext('N',side=2,line=2.5)\n",
    "boxplot(post$x[,,2],names=tobs)\n",
    "    points(x$P[iobs],col='dark green',pch=8,cex=1.2)\n",
    "    points(obs[,1],col='dark green',pch=19,cex=1.2)\n",
    "    legend('topright',bty='n',legend=c('true state','observations'),col='dark green',pch=c(8,19))\n",
    "    mtext('P',side=2,line=2.5)\n",
    "boxplot(post$x[,,3],names=tobs)\n",
    "    points(x$Z[iobs],col='red',pch=8,cex=1.2)\n",
    "    points(obs[,2],col='red',pch=19,cex=1.2)\n",
    "    legend('topright',bty='n',legend=c('true state','observations'),col='red',pch=c(8,19))\n",
    "    mtext('Z',side=2,line=2.5)\n",
    "mtext(outer=TRUE,side=1,'time (days)')"
   ]
  }
 ],
 "metadata": {
  "kernelspec": {
   "display_name": "R",
   "language": "R",
   "name": "ir"
  },
  "language_info": {
   "codemirror_mode": "r",
   "file_extension": ".r",
   "mimetype": "text/x-r-source",
   "name": "R",
   "pygments_lexer": "r",
   "version": "3.6.1"
  }
 },
 "nbformat": 4,
 "nbformat_minor": 2
}
